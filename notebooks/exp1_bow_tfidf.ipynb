{
 "cells": [
  {
   "cell_type": "code",
   "execution_count": 1,
   "id": "75f79f02",
   "metadata": {},
   "outputs": [],
   "source": [
    "# bow vs tfidf\n",
    "\n",
    "# Import necessary libraries\n",
    "import mlflow\n",
    "import mlflow.sklearn\n",
    "from sklearn.feature_extraction.text import CountVectorizer, TfidfVectorizer\n",
    "from sklearn.model_selection import train_test_split\n",
    "from sklearn.linear_model import LogisticRegression\n",
    "from sklearn.naive_bayes import MultinomialNB\n",
    "from xgboost import XGBClassifier\n",
    "from sklearn.ensemble import RandomForestClassifier, GradientBoostingClassifier\n",
    "from sklearn.metrics import accuracy_score, precision_score, recall_score, f1_score\n",
    "import pandas as pd\n",
    "import re\n",
    "import string\n",
    "from nltk.corpus import stopwords\n",
    "from nltk.stem import WordNetLemmatizer\n",
    "import numpy as np\n",
    "import os\n",
    "\n",
    "import dagshub"
   ]
  },
  {
   "cell_type": "code",
   "execution_count": 2,
   "id": "f66a3883",
   "metadata": {},
   "outputs": [],
   "source": [
    "df = pd.read_csv('/home/madan/Machine_learning/mloops_dsmp/mlops_project/data/raw/tweet_emotions.csv').drop(columns=['tweet_id'])\n"
   ]
  },
  {
   "cell_type": "code",
   "execution_count": 3,
   "id": "ee749579",
   "metadata": {},
   "outputs": [
    {
     "name": "stderr",
     "output_type": "stream",
     "text": [
      "<>:30: SyntaxWarning: invalid escape sequence '\\s'\n",
      "<>:30: SyntaxWarning: invalid escape sequence '\\s'\n",
      "/tmp/ipykernel_24566/3090897219.py:30: SyntaxWarning: invalid escape sequence '\\s'\n",
      "  text = re.sub('\\s+', ' ', text).strip()\n",
      "/tmp/ipykernel_24566/3090897219.py:58: FutureWarning: Downcasting behavior in `replace` is deprecated and will be removed in a future version. To retain the old behavior, explicitly call `result.infer_objects(copy=False)`. To opt-in to the future behavior, set `pd.set_option('future.no_silent_downcasting', True)`\n",
      "  df['sentiment'] = df['sentiment'].replace({'sadness':0, 'happiness':1})\n"
     ]
    }
   ],
   "source": [
    "# Define text preprocessing functions\n",
    "def lemmatization(text):\n",
    "    \"\"\"Lemmatize the text.\"\"\"\n",
    "    lemmatizer = WordNetLemmatizer()\n",
    "    text = text.split()\n",
    "    text = [lemmatizer.lemmatize(word) for word in text]\n",
    "    return \" \".join(text)\n",
    "\n",
    "def remove_stop_words(text):\n",
    "    \"\"\"Remove stop words from the text.\"\"\"\n",
    "    stop_words = set(stopwords.words(\"english\"))\n",
    "    text = [word for word in str(text).split() if word not in stop_words]\n",
    "    return \" \".join(text)\n",
    "\n",
    "def removing_numbers(text):\n",
    "    \"\"\"Remove numbers from the text.\"\"\"\n",
    "    text = ''.join([char for char in text if not char.isdigit()])\n",
    "    return text\n",
    "\n",
    "def lower_case(text):\n",
    "    \"\"\"Convert text to lower case.\"\"\"\n",
    "    text = text.split()\n",
    "    text = [word.lower() for word in text]\n",
    "    return \" \".join(text)\n",
    "\n",
    "def removing_punctuations(text):\n",
    "    \"\"\"Remove punctuations from the text.\"\"\"\n",
    "    text = re.sub('[%s]' % re.escape(string.punctuation), ' ', text)\n",
    "    text = text.replace('؛', \"\")\n",
    "    text = re.sub('\\s+', ' ', text).strip()\n",
    "    return text\n",
    "\n",
    "def removing_urls(text):\n",
    "    \"\"\"Remove URLs from the text.\"\"\"\n",
    "    url_pattern = re.compile(r'https?://\\S+|www\\.\\S+')\n",
    "    return url_pattern.sub(r'', text)\n",
    "\n",
    "def normalize_text(df):\n",
    "    \"\"\"Normalize the text data.\"\"\"\n",
    "    try:\n",
    "        df['content'] = df['content'].apply(lower_case)\n",
    "        df['content'] = df['content'].apply(remove_stop_words)\n",
    "        df['content'] = df['content'].apply(removing_numbers)\n",
    "        df['content'] = df['content'].apply(removing_punctuations)\n",
    "        df['content'] = df['content'].apply(removing_urls)\n",
    "        df['content'] = df['content'].apply(lemmatization)\n",
    "        return df\n",
    "    except Exception as e:\n",
    "        print(f'Error during text normalization: {e}')\n",
    "        raise\n",
    "\n",
    "# Normalize the text data\n",
    "df = normalize_text(df)\n",
    "\n",
    "x = df['sentiment'].isin(['happiness','sadness'])\n",
    "df = df[x]\n",
    "\n",
    "df['sentiment'] = df['sentiment'].replace({'sadness':0, 'happiness':1})"
   ]
  },
  {
   "cell_type": "code",
   "execution_count": null,
   "id": "1c4a0202",
   "metadata": {},
   "outputs": [
    {
     "data": {
      "text/html": [
       "<pre style=\"white-space:pre;overflow-x:auto;line-height:normal;font-family:Menlo,'DejaVu Sans Mono',consolas,'Courier New',monospace\">Initialized MLflow to track repo <span style=\"color: #008000; text-decoration-color: #008000\">\"madankh00123/Mini-mlopsProject\"</span>\n",
       "</pre>\n"
      ],
      "text/plain": [
       "Initialized MLflow to track repo \u001b[32m\"madankh00123/Mini-mlopsProject\"\u001b[0m\n"
      ]
     },
     "metadata": {},
     "output_type": "display_data"
    },
    {
     "data": {
      "text/html": [
       "<pre style=\"white-space:pre;overflow-x:auto;line-height:normal;font-family:Menlo,'DejaVu Sans Mono',consolas,'Courier New',monospace\">Repository madankh00123/Mini-mlopsProject initialized!\n",
       "</pre>\n"
      ],
      "text/plain": [
       "Repository madankh00123/Mini-mlopsProject initialized!\n"
      ]
     },
     "metadata": {},
     "output_type": "display_data"
    },
    {
     "name": "stderr",
     "output_type": "stream",
     "text": [
      "2025/09/05 16:52:24 INFO mlflow.tracking.fluent: Experiment with name 'tfidf_vs_bow_model' does not exist. Creating a new experiment.\n"
     ]
    },
    {
     "data": {
      "text/plain": [
       "<Experiment: artifact_location='mlflow-artifacts:/93781f4828c24d98a98b17ea738af924', creation_time=1757070477280, experiment_id='6', last_update_time=1757070477280, lifecycle_stage='active', name='tfidf_vs_bow_model', tags={}>"
      ]
     },
     "execution_count": 9,
     "metadata": {},
     "output_type": "execute_result"
    }
   ],
   "source": [
    "mlflow.set_tracking_uri(\"https://dagshub.com/madankh00123/Mini-mlopsProject.mlflow\")\n",
    "\n",
    "dagshub.init(repo_owner='madankh00123', repo_name='Mini-mlopsProject', mlflow=True)\n",
    "\n",
    "mlflow.set_experiment(\"tfidf_vs_bow_model\")"
   ]
  },
  {
   "cell_type": "code",
   "execution_count": 10,
   "id": "202f29cc",
   "metadata": {},
   "outputs": [],
   "source": [
    "vectorizers = {\n",
    "    'BoW': CountVectorizer(),\n",
    "    'TF-IDF': TfidfVectorizer()\n",
    "}\n",
    "\n",
    "# Define algorithms\n",
    "algorithms = {\n",
    "    'LogisticRegression': LogisticRegression(),\n",
    "    'MultinomialNB': MultinomialNB(),\n",
    "    'XGBoost': XGBClassifier(),\n",
    "    'RandomForest': RandomForestClassifier(),\n",
    "    'GradientBoosting': GradientBoostingClassifier()\n",
    "}"
   ]
  },
  {
   "cell_type": "code",
   "execution_count": 12,
   "id": "27bdef0b",
   "metadata": {},
   "outputs": [
    {
     "name": "stdout",
     "output_type": "stream",
     "text": [
      "Algorithm: LogisticRegression, Feature Engineering: BoW\n",
      "Accuracy: 0.7937349397590362\n",
      "Precision: 0.7846750727449079\n",
      "Recall: 0.7970443349753694\n",
      "F1 Score: 0.7908113391984359\n",
      "🏃 View run LogisticRegression with BoW at: https://dagshub.com/madankh00123/Mini-mlopsProject.mlflow/#/experiments/6/runs/e5ab76e75a2a4007a5e968e183c950ae\n",
      "🧪 View experiment at: https://dagshub.com/madankh00123/Mini-mlopsProject.mlflow/#/experiments/6\n",
      "Algorithm: LogisticRegression, Feature Engineering: TF-IDF\n",
      "Accuracy: 0.7942168674698795\n",
      "Precision: 0.777882797731569\n",
      "Recall: 0.8108374384236453\n",
      "F1 Score: 0.79401833092137\n",
      "🏃 View run LogisticRegression with TF-IDF at: https://dagshub.com/madankh00123/Mini-mlopsProject.mlflow/#/experiments/6/runs/788eaab6e72a43368bda5a48c169911c\n",
      "🧪 View experiment at: https://dagshub.com/madankh00123/Mini-mlopsProject.mlflow/#/experiments/6\n",
      "Algorithm: MultinomialNB, Feature Engineering: BoW\n",
      "Accuracy: 0.7826506024096386\n",
      "Precision: 0.7797619047619048\n",
      "Recall: 0.774384236453202\n",
      "F1 Score: 0.7770637666831438\n",
      "🏃 View run MultinomialNB with BoW at: https://dagshub.com/madankh00123/Mini-mlopsProject.mlflow/#/experiments/6/runs/38c2611accb242fbb4c4212523b3fd67\n",
      "🧪 View experiment at: https://dagshub.com/madankh00123/Mini-mlopsProject.mlflow/#/experiments/6\n",
      "Algorithm: MultinomialNB, Feature Engineering: TF-IDF\n",
      "Accuracy: 0.7826506024096386\n",
      "Precision: 0.7737864077669903\n",
      "Recall: 0.7852216748768472\n",
      "F1 Score: 0.7794621026894866\n",
      "🏃 View run MultinomialNB with TF-IDF at: https://dagshub.com/madankh00123/Mini-mlopsProject.mlflow/#/experiments/6/runs/07bbcb44dfef47089698564cc4e0acda\n",
      "🧪 View experiment at: https://dagshub.com/madankh00123/Mini-mlopsProject.mlflow/#/experiments/6\n",
      "Algorithm: XGBoost, Feature Engineering: BoW\n",
      "Accuracy: 0.771566265060241\n",
      "Precision: 0.7988950276243094\n",
      "Recall: 0.7123152709359606\n",
      "F1 Score: 0.753125\n",
      "🏃 View run XGBoost with BoW at: https://dagshub.com/madankh00123/Mini-mlopsProject.mlflow/#/experiments/6/runs/52c9baaa648f4ec4b3b6e17a5d595f12\n",
      "🧪 View experiment at: https://dagshub.com/madankh00123/Mini-mlopsProject.mlflow/#/experiments/6\n",
      "Algorithm: XGBoost, Feature Engineering: TF-IDF\n",
      "Accuracy: 0.7614457831325301\n",
      "Precision: 0.7170283806343907\n",
      "Recall: 0.8463054187192118\n",
      "F1 Score: 0.7763217352010845\n",
      "🏃 View run XGBoost with TF-IDF at: https://dagshub.com/madankh00123/Mini-mlopsProject.mlflow/#/experiments/6/runs/a8062307330a402085cc1551a9ea227b\n",
      "🧪 View experiment at: https://dagshub.com/madankh00123/Mini-mlopsProject.mlflow/#/experiments/6\n",
      "Algorithm: RandomForest, Feature Engineering: BoW\n",
      "Accuracy: 0.7730120481927711\n",
      "Precision: 0.7905982905982906\n",
      "Recall: 0.729064039408867\n",
      "F1 Score: 0.7585853408508457\n",
      "🏃 View run RandomForest with BoW at: https://dagshub.com/madankh00123/Mini-mlopsProject.mlflow/#/experiments/6/runs/15a396e53d974519b771f6180be237b1\n",
      "🧪 View experiment at: https://dagshub.com/madankh00123/Mini-mlopsProject.mlflow/#/experiments/6\n",
      "Algorithm: RandomForest, Feature Engineering: TF-IDF\n",
      "Accuracy: 0.7662650602409639\n",
      "Precision: 0.7665995975855131\n",
      "Recall: 0.7507389162561576\n",
      "F1 Score: 0.7585863613738179\n",
      "🏃 View run RandomForest with TF-IDF at: https://dagshub.com/madankh00123/Mini-mlopsProject.mlflow/#/experiments/6/runs/60d2fdec3e794015a36b61fd99d0366f\n",
      "🧪 View experiment at: https://dagshub.com/madankh00123/Mini-mlopsProject.mlflow/#/experiments/6\n",
      "Algorithm: GradientBoosting, Feature Engineering: BoW\n",
      "Accuracy: 0.7286746987951808\n",
      "Precision: 0.8029490616621984\n",
      "Recall: 0.5901477832512315\n",
      "F1 Score: 0.6802952867688813\n",
      "🏃 View run GradientBoosting with BoW at: https://dagshub.com/madankh00123/Mini-mlopsProject.mlflow/#/experiments/6/runs/58af3a31327346a194811cbcb9486de4\n",
      "🧪 View experiment at: https://dagshub.com/madankh00123/Mini-mlopsProject.mlflow/#/experiments/6\n",
      "Algorithm: GradientBoosting, Feature Engineering: TF-IDF\n",
      "Accuracy: 0.7228915662650602\n",
      "Precision: 0.8021978021978022\n",
      "Recall: 0.5753694581280788\n",
      "F1 Score: 0.6701090074584051\n",
      "🏃 View run GradientBoosting with TF-IDF at: https://dagshub.com/madankh00123/Mini-mlopsProject.mlflow/#/experiments/6/runs/87247e8d792f46929073c97379c0843f\n",
      "🧪 View experiment at: https://dagshub.com/madankh00123/Mini-mlopsProject.mlflow/#/experiments/6\n",
      "🏃 View run All Experiments at: https://dagshub.com/madankh00123/Mini-mlopsProject.mlflow/#/experiments/6/runs/629ad1915fc843e8bfa72623bd845eef\n",
      "🧪 View experiment at: https://dagshub.com/madankh00123/Mini-mlopsProject.mlflow/#/experiments/6\n"
     ]
    }
   ],
   "source": [
    "with mlflow.start_run(run_name=\"All Experiments\") as parent_run:\n",
    "    # Loop through algorithms and feature extraction methods (Child Runs)\n",
    "    for algo_name, algorithm in algorithms.items():\n",
    "        for vec_name, vectorizer in vectorizers.items():\n",
    "            with mlflow.start_run(run_name=f\"{algo_name} with {vec_name}\", nested=True) as child_run:\n",
    "                X = vectorizer.fit_transform(df['content'])\n",
    "                y = df['sentiment']\n",
    "                X_train, X_test, y_train, y_test = train_test_split(X, y, test_size=0.2, random_state=42)\n",
    "                \n",
    "\n",
    "                # Log preprocessing parameters\n",
    "                mlflow.log_param(\"vectorizer\", vec_name)\n",
    "                mlflow.log_param(\"algorithm\", algo_name)\n",
    "                mlflow.log_param(\"test_size\", 0.2)\n",
    "                \n",
    "                # Model training\n",
    "                model = algorithm\n",
    "                model.fit(X_train, y_train)\n",
    "                \n",
    "                # Log model parameters\n",
    "                if algo_name == 'LogisticRegression':\n",
    "                    mlflow.log_param(\"C\", model.C)\n",
    "                elif algo_name == 'MultinomialNB':\n",
    "                    mlflow.log_param(\"alpha\", model.alpha)\n",
    "                elif algo_name == 'XGBoost':\n",
    "                    mlflow.log_param(\"n_estimators\", model.n_estimators)\n",
    "                    mlflow.log_param(\"learning_rate\", model.learning_rate)\n",
    "                elif algo_name == 'RandomForest':\n",
    "                    mlflow.log_param(\"n_estimators\", model.n_estimators)\n",
    "                    mlflow.log_param(\"max_depth\", model.max_depth)\n",
    "                elif algo_name == 'GradientBoosting':\n",
    "                    mlflow.log_param(\"n_estimators\", model.n_estimators)\n",
    "                    mlflow.log_param(\"learning_rate\", model.learning_rate)\n",
    "                    mlflow.log_param(\"max_depth\", model.max_depth)\n",
    "                \n",
    "                # Model evaluation\n",
    "                y_pred = model.predict(X_test)\n",
    "                accuracy = accuracy_score(y_test, y_pred)\n",
    "                precision = precision_score(y_test, y_pred)\n",
    "                recall = recall_score(y_test, y_pred)\n",
    "                f1 = f1_score(y_test, y_pred)\n",
    "                \n",
    "                # Log evaluation metrics\n",
    "                mlflow.log_metric(\"accuracy\", accuracy)\n",
    "                mlflow.log_metric(\"precision\", precision)\n",
    "                mlflow.log_metric(\"recall\", recall)\n",
    "                mlflow.log_metric(\"f1_score\", f1)\n",
    "                \n",
    "                # Log model\n",
    "                import joblib\n",
    "                joblib.dump(model, \"model.pkl\")\n",
    "                mlflow.log_artifact(\"model.pkl\")\n",
    "                \n",
    "                # Save and log the notebook\n",
    "                notebook_path = \"/home/madan/Machine_learning/mloops_dsmp/mlops_project/notebooks/exp1_baseline_model.ipynb\"\n",
    "                mlflow.log_artifact(notebook_path)\n",
    "    \n",
    "                \n",
    "                # Print the results for verification\n",
    "                print(f\"Algorithm: {algo_name}, Feature Engineering: {vec_name}\")\n",
    "                print(f\"Accuracy: {accuracy}\")\n",
    "                print(f\"Precision: {precision}\")\n",
    "                print(f\"Recall: {recall}\")\n",
    "                print(f\"F1 Score: {f1}\")"
   ]
  },
  {
   "cell_type": "code",
   "execution_count": null,
   "id": "1524f792",
   "metadata": {},
   "outputs": [],
   "source": []
  }
 ],
 "metadata": {
  "kernelspec": {
   "display_name": "covconda",
   "language": "python",
   "name": "python3"
  },
  "language_info": {
   "codemirror_mode": {
    "name": "ipython",
    "version": 3
   },
   "file_extension": ".py",
   "mimetype": "text/x-python",
   "name": "python",
   "nbconvert_exporter": "python",
   "pygments_lexer": "ipython3",
   "version": "3.13.5"
  }
 },
 "nbformat": 4,
 "nbformat_minor": 5
}
