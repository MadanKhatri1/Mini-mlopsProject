{
 "cells": [
  {
   "cell_type": "code",
   "execution_count": 1,
   "id": "d36d2396",
   "metadata": {},
   "outputs": [],
   "source": [
    "# Import necessary libraries\n",
    "import mlflow\n",
    "import mlflow.sklearn\n",
    "from sklearn.feature_extraction.text import CountVectorizer, TfidfVectorizer\n",
    "from sklearn.model_selection import train_test_split, GridSearchCV\n",
    "from sklearn.linear_model import LogisticRegression\n",
    "from sklearn.metrics import accuracy_score, precision_score, recall_score, f1_score\n",
    "import pandas as pd\n",
    "import re\n",
    "import string\n",
    "from nltk.corpus import stopwords\n",
    "from nltk.stem import WordNetLemmatizer\n",
    "import numpy as np\n",
    "import os\n",
    "import dagshub"
   ]
  },
  {
   "cell_type": "code",
   "execution_count": 2,
   "id": "2aa991ef",
   "metadata": {},
   "outputs": [],
   "source": [
    "df = pd.read_csv('/home/madan/Machine_learning/mloops_dsmp/mlops_project/data/raw/tweet_emotions.csv').drop(columns=['tweet_id'])\n"
   ]
  },
  {
   "cell_type": "code",
   "execution_count": 3,
   "id": "ea01ac3a",
   "metadata": {},
   "outputs": [
    {
     "name": "stderr",
     "output_type": "stream",
     "text": [
      "<>:30: SyntaxWarning: invalid escape sequence '\\s'\n",
      "<>:30: SyntaxWarning: invalid escape sequence '\\s'\n",
      "/tmp/ipykernel_28436/3090897219.py:30: SyntaxWarning: invalid escape sequence '\\s'\n",
      "  text = re.sub('\\s+', ' ', text).strip()\n",
      "/tmp/ipykernel_28436/3090897219.py:58: FutureWarning: Downcasting behavior in `replace` is deprecated and will be removed in a future version. To retain the old behavior, explicitly call `result.infer_objects(copy=False)`. To opt-in to the future behavior, set `pd.set_option('future.no_silent_downcasting', True)`\n",
      "  df['sentiment'] = df['sentiment'].replace({'sadness':0, 'happiness':1})\n"
     ]
    }
   ],
   "source": [
    "# Define text preprocessing functions\n",
    "def lemmatization(text):\n",
    "    \"\"\"Lemmatize the text.\"\"\"\n",
    "    lemmatizer = WordNetLemmatizer()\n",
    "    text = text.split()\n",
    "    text = [lemmatizer.lemmatize(word) for word in text]\n",
    "    return \" \".join(text)\n",
    "\n",
    "def remove_stop_words(text):\n",
    "    \"\"\"Remove stop words from the text.\"\"\"\n",
    "    stop_words = set(stopwords.words(\"english\"))\n",
    "    text = [word for word in str(text).split() if word not in stop_words]\n",
    "    return \" \".join(text)\n",
    "\n",
    "def removing_numbers(text):\n",
    "    \"\"\"Remove numbers from the text.\"\"\"\n",
    "    text = ''.join([char for char in text if not char.isdigit()])\n",
    "    return text\n",
    "\n",
    "def lower_case(text):\n",
    "    \"\"\"Convert text to lower case.\"\"\"\n",
    "    text = text.split()\n",
    "    text = [word.lower() for word in text]\n",
    "    return \" \".join(text)\n",
    "\n",
    "def removing_punctuations(text):\n",
    "    \"\"\"Remove punctuations from the text.\"\"\"\n",
    "    text = re.sub('[%s]' % re.escape(string.punctuation), ' ', text)\n",
    "    text = text.replace('؛', \"\")\n",
    "    text = re.sub('\\s+', ' ', text).strip()\n",
    "    return text\n",
    "\n",
    "def removing_urls(text):\n",
    "    \"\"\"Remove URLs from the text.\"\"\"\n",
    "    url_pattern = re.compile(r'https?://\\S+|www\\.\\S+')\n",
    "    return url_pattern.sub(r'', text)\n",
    "\n",
    "def normalize_text(df):\n",
    "    \"\"\"Normalize the text data.\"\"\"\n",
    "    try:\n",
    "        df['content'] = df['content'].apply(lower_case)\n",
    "        df['content'] = df['content'].apply(remove_stop_words)\n",
    "        df['content'] = df['content'].apply(removing_numbers)\n",
    "        df['content'] = df['content'].apply(removing_punctuations)\n",
    "        df['content'] = df['content'].apply(removing_urls)\n",
    "        df['content'] = df['content'].apply(lemmatization)\n",
    "        return df\n",
    "    except Exception as e:\n",
    "        print(f'Error during text normalization: {e}')\n",
    "        raise\n",
    "\n",
    "# Normalize the text data\n",
    "df = normalize_text(df)\n",
    "\n",
    "x = df['sentiment'].isin(['happiness','sadness'])\n",
    "df = df[x]\n",
    "\n",
    "df['sentiment'] = df['sentiment'].replace({'sadness':0, 'happiness':1})"
   ]
  },
  {
   "cell_type": "code",
   "execution_count": 9,
   "id": "32061e09",
   "metadata": {},
   "outputs": [
    {
     "data": {
      "text/html": [
       "<pre style=\"white-space:pre;overflow-x:auto;line-height:normal;font-family:Menlo,'DejaVu Sans Mono',consolas,'Courier New',monospace\">Initialized MLflow to track repo <span style=\"color: #008000; text-decoration-color: #008000\">\"madankh00123/Mini-mlopsProject\"</span>\n",
       "</pre>\n"
      ],
      "text/plain": [
       "Initialized MLflow to track repo \u001b[32m\"madankh00123/Mini-mlopsProject\"\u001b[0m\n"
      ]
     },
     "metadata": {},
     "output_type": "display_data"
    },
    {
     "data": {
      "text/html": [
       "<pre style=\"white-space:pre;overflow-x:auto;line-height:normal;font-family:Menlo,'DejaVu Sans Mono',consolas,'Courier New',monospace\">Repository madankh00123/Mini-mlopsProject initialized!\n",
       "</pre>\n"
      ],
      "text/plain": [
       "Repository madankh00123/Mini-mlopsProject initialized!\n"
      ]
     },
     "metadata": {},
     "output_type": "display_data"
    },
    {
     "name": "stderr",
     "output_type": "stream",
     "text": [
      "2025/09/05 17:38:40 INFO mlflow.tracking.fluent: Experiment with name 'LogesticReg Hyperparameter Tuning' does not exist. Creating a new experiment.\n"
     ]
    }
   ],
   "source": [
    "vectorizer = CountVectorizer()\n",
    "X = vectorizer.fit_transform(df['content'])\n",
    "y = df['sentiment']\n",
    "X_train, X_test, y_train, y_test = train_test_split(X, y, test_size=0.2, random_state=42)\n",
    "\n",
    "# Set the experiment name\n",
    "mlflow.set_tracking_uri(\"https://dagshub.com/madankh00123/Mini-mlopsProject.mlflow\")\n",
    "\n",
    "dagshub.init(repo_owner='madankh00123', repo_name='Mini-mlopsProject', mlflow=True)\n",
    "\n",
    "mlflow.set_experiment(\"LogesticReg Hyperparameter Tuning\")\n",
    "\n",
    "# Define hyperparameter grid for Logistic Regression\n",
    "param_grid = {\n",
    "    'C': [0.1, 1, 10],\n",
    "    'penalty': ['l1', 'l2'],\n",
    "    'solver': ['liblinear']\n",
    "}"
   ]
  },
  {
   "cell_type": "code",
   "execution_count": 10,
   "id": "994e3ef7",
   "metadata": {},
   "outputs": [
    {
     "name": "stdout",
     "output_type": "stream",
     "text": [
      "Mean CV Score: 0.7051810430308207, Std CV Score: 0.014168003094990942\n",
      "Accuracy: 0.7397590361445783\n",
      "Precision: 0.7752027809965237\n",
      "Recall: 0.6591133004926109\n",
      "F1 Score: 0.7124600638977636\n",
      "🏃 View run LR with params: {'C': 0.1, 'penalty': 'l1', 'solver': 'liblinear'} at: https://dagshub.com/madankh00123/Mini-mlopsProject.mlflow/#/experiments/8/runs/b4cf4124957e4b5aaed2890f89af805c\n",
      "🧪 View experiment at: https://dagshub.com/madankh00123/Mini-mlopsProject.mlflow/#/experiments/8\n",
      "Mean CV Score: 0.7792109402770179, Std CV Score: 0.010740092596030877\n",
      "Accuracy: 0.7893975903614457\n",
      "Precision: 0.7805825242718447\n",
      "Recall: 0.7921182266009852\n",
      "F1 Score: 0.7863080684596577\n",
      "🏃 View run LR with params: {'C': 0.1, 'penalty': 'l2', 'solver': 'liblinear'} at: https://dagshub.com/madankh00123/Mini-mlopsProject.mlflow/#/experiments/8/runs/150ac11b8c054c1a8f13fbbccc4c7e70\n",
      "🧪 View experiment at: https://dagshub.com/madankh00123/Mini-mlopsProject.mlflow/#/experiments/8\n",
      "Mean CV Score: 0.7829215927546672, Std CV Score: 0.008058669641280986\n",
      "Accuracy: 0.7826506024096386\n",
      "Precision: 0.77431906614786\n",
      "Recall: 0.7842364532019704\n",
      "F1 Score: 0.7792462065589819\n",
      "🏃 View run LR with params: {'C': 1, 'penalty': 'l1', 'solver': 'liblinear'} at: https://dagshub.com/madankh00123/Mini-mlopsProject.mlflow/#/experiments/8/runs/073091207b414ab1bd4e8dcee6ab940a\n",
      "🧪 View experiment at: https://dagshub.com/madankh00123/Mini-mlopsProject.mlflow/#/experiments/8\n",
      "Mean CV Score: 0.7904116981776645, Std CV Score: 0.010862366536190129\n",
      "Accuracy: 0.7951807228915663\n",
      "Precision: 0.7864077669902912\n",
      "Recall: 0.7980295566502463\n",
      "F1 Score: 0.7921760391198044\n",
      "🏃 View run LR with params: {'C': 1, 'penalty': 'l2', 'solver': 'liblinear'} at: https://dagshub.com/madankh00123/Mini-mlopsProject.mlflow/#/experiments/8/runs/96ce27c1b68445b186af29cb800ba8d1\n",
      "🧪 View experiment at: https://dagshub.com/madankh00123/Mini-mlopsProject.mlflow/#/experiments/8\n",
      "Mean CV Score: 0.7711678776920804, Std CV Score: 0.011043990594651418\n",
      "Accuracy: 0.7840963855421687\n",
      "Precision: 0.7815292949354519\n",
      "Recall: 0.7753694581280788\n",
      "F1 Score: 0.7784371909000989\n",
      "🏃 View run LR with params: {'C': 10, 'penalty': 'l1', 'solver': 'liblinear'} at: https://dagshub.com/madankh00123/Mini-mlopsProject.mlflow/#/experiments/8/runs/a02b73a36d234d71bfbae9459f8c9688\n",
      "🧪 View experiment at: https://dagshub.com/madankh00123/Mini-mlopsProject.mlflow/#/experiments/8\n",
      "Mean CV Score: 0.779151984138562, Std CV Score: 0.00473765823574164\n",
      "Accuracy: 0.7807228915662651\n",
      "Precision: 0.7702702702702703\n",
      "Recall: 0.7862068965517242\n",
      "F1 Score: 0.7781569965870307\n",
      "🏃 View run LR with params: {'C': 10, 'penalty': 'l2', 'solver': 'liblinear'} at: https://dagshub.com/madankh00123/Mini-mlopsProject.mlflow/#/experiments/8/runs/d099e1be175f4c0bba0691789d49a3cf\n",
      "🧪 View experiment at: https://dagshub.com/madankh00123/Mini-mlopsProject.mlflow/#/experiments/8\n",
      "Best Params: {'C': 1, 'penalty': 'l2', 'solver': 'liblinear'}\n",
      "Best F1 Score: 0.7904116981776645\n",
      "🏃 View run brawny-rat-547 at: https://dagshub.com/madankh00123/Mini-mlopsProject.mlflow/#/experiments/8/runs/efa0d4d0b0484d7b8732887b8d3e5043\n",
      "🧪 View experiment at: https://dagshub.com/madankh00123/Mini-mlopsProject.mlflow/#/experiments/8\n"
     ]
    }
   ],
   "source": [
    "with mlflow.start_run():\n",
    "\n",
    "    # Perform grid search\n",
    "    grid_search = GridSearchCV(LogisticRegression(), param_grid, cv=5, scoring='f1', n_jobs=-1)\n",
    "    grid_search.fit(X_train, y_train)\n",
    "\n",
    "    # Log each parameter combination as a child run\n",
    "    for params, mean_score, std_score in zip(grid_search.cv_results_['params'], grid_search.cv_results_['mean_test_score'], grid_search.cv_results_['std_test_score']):\n",
    "        with mlflow.start_run(run_name=f\"LR with params: {params}\", nested=True):\n",
    "            model = LogisticRegression(**params)\n",
    "            model.fit(X_train, y_train)\n",
    "            \n",
    "            # Model evaluation\n",
    "            y_pred = model.predict(X_test)\n",
    "            accuracy = accuracy_score(y_test, y_pred)\n",
    "            precision = precision_score(y_test, y_pred)\n",
    "            recall = recall_score(y_test, y_pred)\n",
    "            f1 = f1_score(y_test, y_pred)\n",
    "            \n",
    "            # Log parameters and metrics\n",
    "            mlflow.log_params(params)\n",
    "            mlflow.log_metric(\"mean_cv_score\", mean_score)\n",
    "            mlflow.log_metric(\"std_cv_score\", std_score)\n",
    "            mlflow.log_metric(\"accuracy\", accuracy)\n",
    "            mlflow.log_metric(\"precision\", precision)\n",
    "            mlflow.log_metric(\"recall\", recall)\n",
    "            mlflow.log_metric(\"f1_score\", f1)\n",
    "            \n",
    "            \n",
    "            # Print the results for verification\n",
    "            print(f\"Mean CV Score: {mean_score}, Std CV Score: {std_score}\")\n",
    "            print(f\"Accuracy: {accuracy}\")\n",
    "            print(f\"Precision: {precision}\")\n",
    "            print(f\"Recall: {recall}\")\n",
    "            print(f\"F1 Score: {f1}\")\n",
    "\n",
    "    # Log the best run details in the parent run\n",
    "    best_params = grid_search.best_params_\n",
    "    best_score = grid_search.best_score_\n",
    "    mlflow.log_params(best_params)\n",
    "    mlflow.log_metric(\"best_f1_score\", best_score)\n",
    "    \n",
    "    print(f\"Best Params: {best_params}\")\n",
    "    print(f\"Best F1 Score: {best_score}\")\n",
    "\n",
    "    # Save and log the notebook\n",
    "    notebook_path = \"/home/madan/Machine_learning/mloops_dsmp/mlops_project/notebooks/exp3_logestic_bow.ipynb\"\n",
    "    mlflow.log_artifact(notebook_path)\n",
    "    # Log model\n"
   ]
  },
  {
   "cell_type": "code",
   "execution_count": null,
   "id": "c2bd8e0a",
   "metadata": {},
   "outputs": [],
   "source": []
  }
 ],
 "metadata": {
  "kernelspec": {
   "display_name": "covconda",
   "language": "python",
   "name": "python3"
  },
  "language_info": {
   "codemirror_mode": {
    "name": "ipython",
    "version": 3
   },
   "file_extension": ".py",
   "mimetype": "text/x-python",
   "name": "python",
   "nbconvert_exporter": "python",
   "pygments_lexer": "ipython3",
   "version": "3.13.5"
  }
 },
 "nbformat": 4,
 "nbformat_minor": 5
}
